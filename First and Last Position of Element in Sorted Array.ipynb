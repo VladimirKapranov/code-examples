{
 "cells": [
  {
   "cell_type": "code",
   "execution_count": 5,
   "id": "59764bac",
   "metadata": {},
   "outputs": [],
   "source": [
    "#This is problem 34 from leetcode \"Find First and Last Position of Element in Sorted Array\" \n",
    "#Description:\n",
    "#Given an array of integers nums sorted in ascending order, find the starting and ending position of a given target value.\n",
    "#If target is not found in the array, return [-1, -1].\n",
    "#You must write an algorithm with O(log n) runtime complexity.\n",
    "\n",
    "#O(log n) runtime complexity usually means that some sort of binary search is involved. \n",
    "#So the idea is to search for any position of a target, using binary search,\n",
    "#then moving to left and right find the boundaries in which values are equal to target\n",
    "\n",
    "def binarySearch(nums, target):\n",
    "    #this is basic binary search not much to say about it\n",
    "    left = 0\n",
    "    right = len(nums)-1\n",
    "    while (left <= right):\n",
    "        middle = left + (right - left) // 2\n",
    "        if (nums[middle] == target):\n",
    "            return middle\n",
    "        elif (nums[middle] > target):\n",
    "            right = middle - 1\n",
    "        else:\n",
    "            left = middle + 1\n",
    "    return -1\n",
    "\n",
    "def searchRange(nums, target):\n",
    "    #first step: find any position of target (if target is present in array)\n",
    "    left = right = binarySearch(nums, target)\n",
    "    #check for -1 result from binary search function, \n",
    "    #which means that target is not in array and we dont need to find boundaries\n",
    "    if (left != -1):\n",
    "        while (nums[left] == target and left > 0):\n",
    "            left -= 1\n",
    "        while (nums[right] == target and right < len(nums) - 1):\n",
    "            right += 1\n",
    "        if (nums[left] != target):\n",
    "            left += 1\n",
    "        if (nums[right] != target):\n",
    "            right -= 1\n",
    "    return [left, right]\n",
    "\n"
   ]
  },
  {
   "cell_type": "code",
   "execution_count": null,
   "id": "f9c79a7b",
   "metadata": {},
   "outputs": [],
   "source": []
  }
 ],
 "metadata": {
  "kernelspec": {
   "display_name": "Python 3",
   "language": "python",
   "name": "python3"
  },
  "language_info": {
   "codemirror_mode": {
    "name": "ipython",
    "version": 3
   },
   "file_extension": ".py",
   "mimetype": "text/x-python",
   "name": "python",
   "nbconvert_exporter": "python",
   "pygments_lexer": "ipython3",
   "version": "3.8.8"
  }
 },
 "nbformat": 4,
 "nbformat_minor": 5
}
