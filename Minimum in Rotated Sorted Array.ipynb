{
 "cells": [
  {
   "cell_type": "code",
   "execution_count": 4,
   "id": "b57f9321",
   "metadata": {},
   "outputs": [],
   "source": [
    "#This is problem 153 from leetcode \"Find Minimum in Rotated Sorted Array\"\n",
    "#Description:\n",
    "#Suppose an array of length n sorted in ascending order is rotated between 1 and n times. \n",
    "#For example, the array nums = [0,1,2,4,5,6,7] might become:\n",
    "#[4,5,6,7,0,1,2] if it was rotated 4 times.\n",
    "#[0,1,2,4,5,6,7] if it was rotated 7 times.\n",
    "#Notice that rotating an array [a[0], a[1], a[2], ..., a[n-1]] 1 time results \n",
    "#in the array [a[n-1], a[0], a[1], a[2], ..., a[n-2]].\n",
    "#Given the sorted rotated array nums of unique elements, return the minimum element of this array.\n",
    "#You must write an algorithm that runs in O(log n) time.\n",
    "#Constraints:\n",
    "#n == nums.length\n",
    "#1 <= n <= 5000\n",
    "#-5000 <= nums[i] <= 5000\n",
    "#All the integers of nums are unique.\n",
    "#nums is sorted and rotated between 1 and n times.\n",
    "\n",
    "#This is interesting problem, because it shows, that binary search can be used not only to search for target number,\n",
    "#but for more abstract things like relations between adjacent array elements.\n",
    "#The idea is to find where ascending order is broken. Second element of descending pair is minimum.\n",
    "\n",
    "def findMin(nums):\n",
    "    left = 0\n",
    "    right = len(nums) - 1\n",
    "    #Firstly we need to check if array was rotated number of times divisible by len(nums)\n",
    "    if (nums[left] <= nums[right]):\n",
    "        return nums[left]\n",
    "    else:\n",
    "        while (left <= right):\n",
    "            middle = left + (right - left) // 2\n",
    "            #first two conditions check for out-of-order elements around nums[middle]\n",
    "            if (nums[middle] > nums[middle+1]):\n",
    "                return nums[middle+1]\n",
    "            elif (nums[middle] < nums[middle-1]):\n",
    "                return nums[middle]\n",
    "            #last two conditions check if out-of-order elements is before, or after minimal element\n",
    "            elif (nums[middle] < nums[left]):\n",
    "                right = middle\n",
    "            elif (nums[middle] > nums[left]):\n",
    "                left = middle\n",
    "                \n"
   ]
  },
  {
   "cell_type": "code",
   "execution_count": null,
   "id": "da378344",
   "metadata": {},
   "outputs": [],
   "source": []
  }
 ],
 "metadata": {
  "kernelspec": {
   "display_name": "Python 3",
   "language": "python",
   "name": "python3"
  },
  "language_info": {
   "codemirror_mode": {
    "name": "ipython",
    "version": 3
   },
   "file_extension": ".py",
   "mimetype": "text/x-python",
   "name": "python",
   "nbconvert_exporter": "python",
   "pygments_lexer": "ipython3",
   "version": "3.8.8"
  }
 },
 "nbformat": 4,
 "nbformat_minor": 5
}
